{
  "nbformat": 4,
  "nbformat_minor": 0,
  "metadata": {
    "colab": {
      "name": "No of person identification(video).ipynb",
      "provenance": []
    },
    "kernelspec": {
      "name": "python3",
      "display_name": "Python 3"
    },
    "language_info": {
      "name": "python"
    }
  },
  "cells": [
    {
      "cell_type": "code",
      "metadata": {
        "id": "-PH45rmJ1hXZ"
      },
      "source": [
        "import numpy as np\n",
        "import imutils\n",
        "import cv2\n"
      ],
      "execution_count": 8,
      "outputs": []
    },
    {
      "cell_type": "code",
      "metadata": {
        "id": "LLji06rn13sd"
      },
      "source": [
        "hog=cv2.HOGDescriptor()\n",
        "hog.setSVMDetector(cv2.HOGDescriptor_getDefaultPeopleDetector())"
      ],
      "execution_count": 2,
      "outputs": []
    },
    {
      "cell_type": "code",
      "metadata": {
        "id": "wvr7XB7p21Jx"
      },
      "source": [
        "cap=cv2.VideoCapture('vid1.mp4')\n",
        "while cap.isOpened():\n",
        "  ret,image=cap.read()\n",
        "  if ret:\n",
        "    image=imutils.resize(image,width=min(400,image.shape[1]))\n",
        "    Bounding_box_coordinates,weights=hog.detectMultiScale(image,winStride=(4,4),padding=(4,4),scale=1.05)\n",
        "    person=1\n",
        "\n",
        "    for x,y,w,h in Bounding_box_coordinates:\n",
        "      cv2.rectangle(image,(x,y),(x+w,y+h),(0,255,0),2)\n",
        "      cv2.putText(image,'person {}'.format(person),(x,y),cv2.FONT_HERSHEY_SIMPLEX,0.6,(0,0,1000),4)\n",
        "      person +=1\n",
        "\n",
        "cv2.putText(image,'Status : Detecting',(40,40),cv2.FONT_HERSHEY_DUPLEX,1.0,(0,0,255),3)\n",
        "cv2.putText(image,'No.of Persons : {}'.format(person-1),(40,70),cv2.FONT_HERSHEY_DUPLEX,1.0,(0,0,255),3)\n",
        "cv2.imshow('Image',image)\n",
        "if cv2.waitKey(25) & 0xFF == ord('q'):\n",
        "  break\n",
        "cap.release()\n",
        "cv2.destroyAllWindows()"
      ],
      "execution_count": null,
      "outputs": []
    },
    {
      "cell_type": "code",
      "metadata": {
        "id": "Ygc0RBkr9hXQ"
      },
      "source": [
        ""
      ],
      "execution_count": null,
      "outputs": []
    }
  ]
}